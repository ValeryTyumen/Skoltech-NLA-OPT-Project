{
 "cells": [
  {
   "cell_type": "markdown",
   "metadata": {
    "collapsed": true,
    "slideshow": {
     "slide_type": "slide"
    }
   },
   "source": [
    "# Additive Regularization of Topic Models\n",
    "\n",
    "### Marina Gomtsyan, Valerii Likhosherstov, Aliaksandra Shysheya"
   ]
  },
  {
   "cell_type": "markdown",
   "metadata": {
    "collapsed": true,
    "slideshow": {
     "slide_type": "slide"
    }
   },
   "source": [
    "# Topic Modeling\n",
    "\n",
    "* document clustering\n",
    "* feature selection\n",
    "* information retrieval\n",
    "* etc."
   ]
  },
  {
   "cell_type": "markdown",
   "metadata": {
    "collapsed": true,
    "slideshow": {
     "slide_type": "slide"
    }
   },
   "source": [
    "# Probabilistic latent semantic analysis\n",
    "\n",
    "$D$ - set of texts, $W$ - set of words, $T$ - set of latent topics.\n",
    "\n",
    "$n_d$ words in each document, $n_{dw}$ times $w$ appears in $d$.\n",
    "\n",
    "* Text collection:  $(w_i,d_i, t_i) \\sim p(w,d,t)$, $i = 1, ... , n$.\n",
    "* Assumption: $p(w | t) = p(w | d, t)$.\n",
    "* $p(w | d) = \\sum_{t \\in T} p(t | d) p(w | t) = \\sum_{t \\in T} \\phi_{wt} \\theta_{td} \\approx \\frac{n_{dw}}{n_d}$."
   ]
  },
  {
   "cell_type": "markdown",
   "metadata": {
    "collapsed": true,
    "slideshow": {
     "slide_type": "slide"
    }
   },
   "source": [
    "# PLSA \n",
    "\n",
    "Problem statement:\n",
    "\n",
    "$$ L (\\Phi, \\Theta) = \\sum_{d \\in D} \\sum_{w  \\in D} n_{dw} \\ln \\sum_{t \\in T} \\phi_{wt} \\theta_{td} \\to \\max_{\\Phi, \\Theta} $$\n",
    "$$ \\text{subject to} $$\n",
    "$$ \\sum_{w \\in W} \\phi_{wt} = 1, \\quad \\phi_{td} \\geq 0 $$\n",
    "$$ \\sum_{t \\in T} \\theta_{td} = 1, \\quad \\theta_{td} \\geq 0 $$\n",
    "\n",
    "Solution - EM-algorithm iterations."
   ]
  },
  {
   "cell_type": "markdown",
   "metadata": {
    "slideshow": {
     "slide_type": "slide"
    }
   },
   "source": [
    "### Additive Regularization for Topic Models\n",
    "\n",
    "\n",
    "\n",
    "Let's add regularization to the objective:\n",
    "\n",
    "$$ L(\\Phi, \\Theta) + R(\\Phi, \\Theta) \\to \\max_{\\Phi, \\Theta} $$\n",
    "\n",
    "* $ R( \\Phi, \\Theta) = \\sum_{i=1}^r \\tau_i R_i(\\Phi, \\Theta) $.\n",
    "* For smooth $R$ exact EM-algorithm still exists!"
   ]
  },
  {
   "cell_type": "markdown",
   "metadata": {
    "slideshow": {
     "slide_type": "slide"
    }
   },
   "source": [
    "# Example - sparsing regularization\n",
    "\n",
    "\n",
    "\n",
    "$ R(\\Phi, \\Theta) = -\\beta_0 \\sum_{t \\in T} \\sum_{w \\in W} \\beta_{w} \\ln \\phi_{wt} - \\alpha_{0} \\sum_{d \\in D}\\sum_{t \\in T} \\alpha_t \\ln \\theta_{td} $\n",
    "\n",
    "$ \\beta_w, \\alpha_t $ are uniform distributions, $ \\beta_0, \\alpha_0 $ are non-negative."
   ]
  },
  {
   "cell_type": "markdown",
   "metadata": {
    "slideshow": {
     "slide_type": "slide"
    }
   },
   "source": [
    "# Many other regularizers for:\n",
    "\n",
    "* Topic covariance minimization\n",
    "* Elimination of insignificant topics\n",
    "* Classification regularizer\n",
    "* etc."
   ]
  },
  {
   "cell_type": "markdown",
   "metadata": {
    "slideshow": {
     "slide_type": "slide"
    }
   },
   "source": [
    "# Our project\n",
    "\n",
    "* Implement EM-algorithm for ARTM and a set of regularizers.\n",
    "* Set up several ARTM models.\n",
    "* Choose a quality metric.\n",
    "* Compare their quality on some dataset."
   ]
  },
  {
   "cell_type": "markdown",
   "metadata": {
    "slideshow": {
     "slide_type": "slide"
    }
   },
   "source": [
    "# Models\n",
    "\n",
    "* **50 topics**\n",
    "* Baseline model - PLSA\n",
    "* Topic covariance minimization + Elimination of insignificant topics\n",
    "* Sparsing regularization\n",
    "* Classification using genre labels from dataset."
   ]
  },
  {
   "cell_type": "markdown",
   "metadata": {
    "slideshow": {
     "slide_type": "slide"
    }
   },
   "source": [
    "# Metrics\n",
    "\n",
    "### Perplexity (to test PLSA):\n",
    "\n",
    "$$ \\mathscr{P}(D, p) = exp\\Big(-\\frac{1}{n} L(\\Phi, \\Theta)\\Big) $$\n",
    "\n",
    "### Interpretability (main metric):\n",
    "\n",
    "$$ \\text{PMI}_t = \\frac{1}{k(k-1)} \\sum_{i=1}^{k-1} \\sum_{j=i}^{k} \\text{PMI}(w_i, w_j) $$\n",
    "\n",
    "$w_1, ..., w_k$ - most probable words in topic $t$. $k = 100$.\n",
    "\n",
    "$$ \\text{PMI} (u, v) = \\ln \\frac{\\mid D \\mid N_{uv}}{N_u N_v} $$\n",
    "\n",
    "$N_u$ - # documents with word $u$.\n",
    "\n",
    "$N_{uv}$ - # documents with words $u$ and $v$ in a sliding window of 10 words."
   ]
  },
  {
   "cell_type": "markdown",
   "metadata": {
    "slideshow": {
     "slide_type": "slide"
    }
   },
   "source": [
    "# Dataset\n",
    "\n",
    "* From OpenCorpora - open source Russian language corpora.\n",
    "* 2610 documents, 59264 words (1900 after filtration).\n",
    "* Manually lemmatized."
   ]
  },
  {
   "cell_type": "markdown",
   "metadata": {
    "slideshow": {
     "slide_type": "slide"
    }
   },
   "source": [
    "# EM-algorithm testing\n",
    "\n",
    "Baseline model - PLSA\n",
    "\n",
    "<img src=\"files/perplexity.png\">"
   ]
  },
  {
   "cell_type": "markdown",
   "metadata": {
    "slideshow": {
     "slide_type": "slide"
    }
   },
   "source": [
    "# Best model\n",
    "\n",
    "Topic covariance minimization + Elimination of insignificant topics - ~5% improvement\n",
    "\n",
    "<img src=\"files/best_model.png\">"
   ]
  },
  {
   "cell_type": "markdown",
   "metadata": {
    "slideshow": {
     "slide_type": "slide"
    }
   },
   "source": [
    "# Some topics for the best model\n",
    "\n",
    "* `['новый', 'искусство', 'эпоха', 'концепция', 'архитектура', 'разработка', 'личность', 'возрождение', 'здание', 'живопись']`\n",
    "* `['по', 'рубль', 'общий', 'каждый', 'сумма', 'проект', 'млн', 'сеть', 'евро', 'регион']`\n",
    "* `['год', '2008', '2009', 'сообщил', '2004', 'миллиард', 'сша', 'германия', '60', 'продажа']`"
   ]
  },
  {
   "cell_type": "markdown",
   "metadata": {
    "slideshow": {
     "slide_type": "slide"
    }
   },
   "source": [
    "# Document clusters\n",
    "\n",
    "<img src=\"files/tsne.png\">"
   ]
  }
 ],
 "metadata": {
  "celltoolbar": "Slideshow",
  "kernelspec": {
   "display_name": "Python 3",
   "language": "python",
   "name": "python3"
  },
  "language_info": {
   "codemirror_mode": {
    "name": "ipython",
    "version": 3
   },
   "file_extension": ".py",
   "mimetype": "text/x-python",
   "name": "python",
   "nbconvert_exporter": "python",
   "pygments_lexer": "ipython3",
   "version": "3.6.1"
  }
 },
 "nbformat": 4,
 "nbformat_minor": 2
}
